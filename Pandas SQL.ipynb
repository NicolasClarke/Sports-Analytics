{
 "cells": [
  {
   "cell_type": "code",
   "execution_count": 30,
   "metadata": {},
   "outputs": [],
   "source": [
    "import pandas as pd\n",
    "import numpy as np"
   ]
  },
  {
   "cell_type": "code",
   "execution_count": 85,
   "metadata": {},
   "outputs": [],
   "source": [
    "pitchers_2016 = pd.read_table('pitchers_2016.csv', index_col=None, na_values=['NA'],sep=',')"
   ]
  },
  {
   "cell_type": "code",
   "execution_count": 72,
   "metadata": {},
   "outputs": [],
   "source": [
    "pitchers_2017 = pd.read_table('pitchers_2017.csv', index_col=None, na_values=['NA'],sep=',')"
   ]
  },
  {
   "cell_type": "code",
   "execution_count": 73,
   "metadata": {},
   "outputs": [
    {
     "data": {
      "text/html": [
       "<div>\n",
       "<style scoped>\n",
       "    .dataframe tbody tr th:only-of-type {\n",
       "        vertical-align: middle;\n",
       "    }\n",
       "\n",
       "    .dataframe tbody tr th {\n",
       "        vertical-align: top;\n",
       "    }\n",
       "\n",
       "    .dataframe thead th {\n",
       "        text-align: right;\n",
       "    }\n",
       "</style>\n",
       "<table border=\"1\" class=\"dataframe\">\n",
       "  <thead>\n",
       "    <tr style=\"text-align: right;\">\n",
       "      <th></th>\n",
       "      <th>playerid</th>\n",
       "      <th>Name</th>\n",
       "      <th>BABIP_2016</th>\n",
       "    </tr>\n",
       "  </thead>\n",
       "  <tbody>\n",
       "    <tr>\n",
       "      <th>0</th>\n",
       "      <td>2036</td>\n",
       "      <td>Clayton Kershaw</td>\n",
       "      <td>0.254</td>\n",
       "    </tr>\n",
       "    <tr>\n",
       "      <th>1</th>\n",
       "      <td>11762</td>\n",
       "      <td>Noah Syndergaard</td>\n",
       "      <td>0.334</td>\n",
       "    </tr>\n",
       "    <tr>\n",
       "      <th>2</th>\n",
       "      <td>11530</td>\n",
       "      <td>Jose Fernandez</td>\n",
       "      <td>0.332</td>\n",
       "    </tr>\n",
       "    <tr>\n",
       "      <th>3</th>\n",
       "      <td>3137</td>\n",
       "      <td>Max Scherzer</td>\n",
       "      <td>0.255</td>\n",
       "    </tr>\n",
       "    <tr>\n",
       "      <th>4</th>\n",
       "      <td>6893</td>\n",
       "      <td>Johnny Cueto</td>\n",
       "      <td>0.293</td>\n",
       "    </tr>\n",
       "  </tbody>\n",
       "</table>\n",
       "</div>"
      ],
      "text/plain": [
       "   playerid              Name  BABIP_2016\n",
       "0      2036   Clayton Kershaw       0.254\n",
       "1     11762  Noah Syndergaard       0.334\n",
       "2     11530    Jose Fernandez       0.332\n",
       "3      3137      Max Scherzer       0.255\n",
       "4      6893      Johnny Cueto       0.293"
      ]
     },
     "execution_count": 73,
     "metadata": {},
     "output_type": "execute_result"
    }
   ],
   "source": [
    "pitchers_2016.head()"
   ]
  },
  {
   "cell_type": "code",
   "execution_count": 74,
   "metadata": {},
   "outputs": [
    {
     "data": {
      "text/html": [
       "<div>\n",
       "<style scoped>\n",
       "    .dataframe tbody tr th:only-of-type {\n",
       "        vertical-align: middle;\n",
       "    }\n",
       "\n",
       "    .dataframe tbody tr th {\n",
       "        vertical-align: top;\n",
       "    }\n",
       "\n",
       "    .dataframe thead th {\n",
       "        text-align: right;\n",
       "    }\n",
       "</style>\n",
       "<table border=\"1\" class=\"dataframe\">\n",
       "  <thead>\n",
       "    <tr style=\"text-align: right;\">\n",
       "      <th></th>\n",
       "      <th>playerid</th>\n",
       "      <th>Name</th>\n",
       "      <th>BABIP_2017</th>\n",
       "    </tr>\n",
       "  </thead>\n",
       "  <tbody>\n",
       "    <tr>\n",
       "      <th>0</th>\n",
       "      <td>10603</td>\n",
       "      <td>Chris Sale</td>\n",
       "      <td>0.301</td>\n",
       "    </tr>\n",
       "    <tr>\n",
       "      <th>1</th>\n",
       "      <td>2429</td>\n",
       "      <td>Corey Kluber</td>\n",
       "      <td>0.267</td>\n",
       "    </tr>\n",
       "    <tr>\n",
       "      <th>2</th>\n",
       "      <td>3137</td>\n",
       "      <td>Max Scherzer</td>\n",
       "      <td>0.245</td>\n",
       "    </tr>\n",
       "    <tr>\n",
       "      <th>3</th>\n",
       "      <td>15890</td>\n",
       "      <td>Luis Severino</td>\n",
       "      <td>0.272</td>\n",
       "    </tr>\n",
       "    <tr>\n",
       "      <th>4</th>\n",
       "      <td>10131</td>\n",
       "      <td>Stephen Strasburg</td>\n",
       "      <td>0.274</td>\n",
       "    </tr>\n",
       "  </tbody>\n",
       "</table>\n",
       "</div>"
      ],
      "text/plain": [
       "   playerid               Name  BABIP_2017\n",
       "0     10603         Chris Sale       0.301\n",
       "1      2429       Corey Kluber       0.267\n",
       "2      3137       Max Scherzer       0.245\n",
       "3     15890      Luis Severino       0.272\n",
       "4     10131  Stephen Strasburg       0.274"
      ]
     },
     "execution_count": 74,
     "metadata": {},
     "output_type": "execute_result"
    }
   ],
   "source": [
    "pitchers_2017.head()"
   ]
  },
  {
   "cell_type": "code",
   "execution_count": 75,
   "metadata": {},
   "outputs": [
    {
     "data": {
      "text/html": [
       "<div>\n",
       "<style scoped>\n",
       "    .dataframe tbody tr th:only-of-type {\n",
       "        vertical-align: middle;\n",
       "    }\n",
       "\n",
       "    .dataframe tbody tr th {\n",
       "        vertical-align: top;\n",
       "    }\n",
       "\n",
       "    .dataframe thead th {\n",
       "        text-align: right;\n",
       "    }\n",
       "</style>\n",
       "<table border=\"1\" class=\"dataframe\">\n",
       "  <thead>\n",
       "    <tr style=\"text-align: right;\">\n",
       "      <th></th>\n",
       "      <th>playerid_x</th>\n",
       "      <th>Name</th>\n",
       "      <th>BABIP_2016</th>\n",
       "      <th>playerid_y</th>\n",
       "      <th>BABIP_2017</th>\n",
       "    </tr>\n",
       "  </thead>\n",
       "  <tbody>\n",
       "    <tr>\n",
       "      <th>0</th>\n",
       "      <td>2036.0</td>\n",
       "      <td>Clayton Kershaw</td>\n",
       "      <td>0.254</td>\n",
       "      <td>2036.0</td>\n",
       "      <td>0.267</td>\n",
       "    </tr>\n",
       "    <tr>\n",
       "      <th>1</th>\n",
       "      <td>11762.0</td>\n",
       "      <td>Noah Syndergaard</td>\n",
       "      <td>0.334</td>\n",
       "      <td>11762.0</td>\n",
       "      <td>0.337</td>\n",
       "    </tr>\n",
       "    <tr>\n",
       "      <th>2</th>\n",
       "      <td>11530.0</td>\n",
       "      <td>Jose Fernandez</td>\n",
       "      <td>0.332</td>\n",
       "      <td>NaN</td>\n",
       "      <td>NaN</td>\n",
       "    </tr>\n",
       "    <tr>\n",
       "      <th>3</th>\n",
       "      <td>3137.0</td>\n",
       "      <td>Max Scherzer</td>\n",
       "      <td>0.255</td>\n",
       "      <td>3137.0</td>\n",
       "      <td>0.245</td>\n",
       "    </tr>\n",
       "    <tr>\n",
       "      <th>4</th>\n",
       "      <td>6893.0</td>\n",
       "      <td>Johnny Cueto</td>\n",
       "      <td>0.293</td>\n",
       "      <td>6893.0</td>\n",
       "      <td>0.322</td>\n",
       "    </tr>\n",
       "  </tbody>\n",
       "</table>\n",
       "</div>"
      ],
      "text/plain": [
       "   playerid_x              Name  BABIP_2016  playerid_y  BABIP_2017\n",
       "0      2036.0   Clayton Kershaw       0.254      2036.0       0.267\n",
       "1     11762.0  Noah Syndergaard       0.334     11762.0       0.337\n",
       "2     11530.0    Jose Fernandez       0.332         NaN         NaN\n",
       "3      3137.0      Max Scherzer       0.255      3137.0       0.245\n",
       "4      6893.0      Johnny Cueto       0.293      6893.0       0.322"
      ]
     },
     "execution_count": 75,
     "metadata": {},
     "output_type": "execute_result"
    }
   ],
   "source": [
    "outer_merge = pd.merge(pitchers_2016, pitchers_2017, left_on='Name', right_on='Name', how='outer')\n",
    "outer_merge.head()"
   ]
  },
  {
   "cell_type": "code",
   "execution_count": 76,
   "metadata": {},
   "outputs": [
    {
     "data": {
      "text/html": [
       "<div>\n",
       "<style scoped>\n",
       "    .dataframe tbody tr th:only-of-type {\n",
       "        vertical-align: middle;\n",
       "    }\n",
       "\n",
       "    .dataframe tbody tr th {\n",
       "        vertical-align: top;\n",
       "    }\n",
       "\n",
       "    .dataframe thead th {\n",
       "        text-align: right;\n",
       "    }\n",
       "</style>\n",
       "<table border=\"1\" class=\"dataframe\">\n",
       "  <thead>\n",
       "    <tr style=\"text-align: right;\">\n",
       "      <th></th>\n",
       "      <th>playerid_x</th>\n",
       "      <th>Name</th>\n",
       "      <th>BABIP_2016</th>\n",
       "      <th>playerid_y</th>\n",
       "      <th>BABIP_2017</th>\n",
       "    </tr>\n",
       "  </thead>\n",
       "  <tbody>\n",
       "    <tr>\n",
       "      <th>952</th>\n",
       "      <td>NaN</td>\n",
       "      <td>Miguel Diaz</td>\n",
       "      <td>NaN</td>\n",
       "      <td>18815.0</td>\n",
       "      <td>0.275</td>\n",
       "    </tr>\n",
       "    <tr>\n",
       "      <th>953</th>\n",
       "      <td>NaN</td>\n",
       "      <td>David Holmberg</td>\n",
       "      <td>NaN</td>\n",
       "      <td>7725.0</td>\n",
       "      <td>0.273</td>\n",
       "    </tr>\n",
       "    <tr>\n",
       "      <th>954</th>\n",
       "      <td>NaN</td>\n",
       "      <td>Bronson Arroyo</td>\n",
       "      <td>NaN</td>\n",
       "      <td>978.0</td>\n",
       "      <td>0.305</td>\n",
       "    </tr>\n",
       "    <tr>\n",
       "      <th>955</th>\n",
       "      <td>NaN</td>\n",
       "      <td>Dylan Covey</td>\n",
       "      <td>NaN</td>\n",
       "      <td>14825.0</td>\n",
       "      <td>0.296</td>\n",
       "    </tr>\n",
       "    <tr>\n",
       "      <th>956</th>\n",
       "      <td>NaN</td>\n",
       "      <td>Amir Garrett</td>\n",
       "      <td>NaN</td>\n",
       "      <td>14375.0</td>\n",
       "      <td>0.264</td>\n",
       "    </tr>\n",
       "  </tbody>\n",
       "</table>\n",
       "</div>"
      ],
      "text/plain": [
       "     playerid_x            Name  BABIP_2016  playerid_y  BABIP_2017\n",
       "952         NaN     Miguel Diaz         NaN     18815.0       0.275\n",
       "953         NaN  David Holmberg         NaN      7725.0       0.273\n",
       "954         NaN  Bronson Arroyo         NaN       978.0       0.305\n",
       "955         NaN     Dylan Covey         NaN     14825.0       0.296\n",
       "956         NaN    Amir Garrett         NaN     14375.0       0.264"
      ]
     },
     "execution_count": 76,
     "metadata": {},
     "output_type": "execute_result"
    }
   ],
   "source": [
    "outer_merge.tail()"
   ]
  },
  {
   "cell_type": "code",
   "execution_count": 77,
   "metadata": {},
   "outputs": [
    {
     "data": {
      "text/html": [
       "<div>\n",
       "<style scoped>\n",
       "    .dataframe tbody tr th:only-of-type {\n",
       "        vertical-align: middle;\n",
       "    }\n",
       "\n",
       "    .dataframe tbody tr th {\n",
       "        vertical-align: top;\n",
       "    }\n",
       "\n",
       "    .dataframe thead th {\n",
       "        text-align: right;\n",
       "    }\n",
       "</style>\n",
       "<table border=\"1\" class=\"dataframe\">\n",
       "  <thead>\n",
       "    <tr style=\"text-align: right;\">\n",
       "      <th></th>\n",
       "      <th>playerid_x</th>\n",
       "      <th>Name</th>\n",
       "      <th>BABIP_2016</th>\n",
       "      <th>playerid_y</th>\n",
       "      <th>BABIP_2017</th>\n",
       "    </tr>\n",
       "  </thead>\n",
       "  <tbody>\n",
       "    <tr>\n",
       "      <th>0</th>\n",
       "      <td>2036</td>\n",
       "      <td>Clayton Kershaw</td>\n",
       "      <td>0.254</td>\n",
       "      <td>2036.0</td>\n",
       "      <td>0.267</td>\n",
       "    </tr>\n",
       "    <tr>\n",
       "      <th>1</th>\n",
       "      <td>11762</td>\n",
       "      <td>Noah Syndergaard</td>\n",
       "      <td>0.334</td>\n",
       "      <td>11762.0</td>\n",
       "      <td>0.337</td>\n",
       "    </tr>\n",
       "    <tr>\n",
       "      <th>2</th>\n",
       "      <td>11530</td>\n",
       "      <td>Jose Fernandez</td>\n",
       "      <td>0.332</td>\n",
       "      <td>NaN</td>\n",
       "      <td>NaN</td>\n",
       "    </tr>\n",
       "    <tr>\n",
       "      <th>3</th>\n",
       "      <td>3137</td>\n",
       "      <td>Max Scherzer</td>\n",
       "      <td>0.255</td>\n",
       "      <td>3137.0</td>\n",
       "      <td>0.245</td>\n",
       "    </tr>\n",
       "    <tr>\n",
       "      <th>4</th>\n",
       "      <td>6893</td>\n",
       "      <td>Johnny Cueto</td>\n",
       "      <td>0.293</td>\n",
       "      <td>6893.0</td>\n",
       "      <td>0.322</td>\n",
       "    </tr>\n",
       "  </tbody>\n",
       "</table>\n",
       "</div>"
      ],
      "text/plain": [
       "   playerid_x              Name  BABIP_2016  playerid_y  BABIP_2017\n",
       "0        2036   Clayton Kershaw       0.254      2036.0       0.267\n",
       "1       11762  Noah Syndergaard       0.334     11762.0       0.337\n",
       "2       11530    Jose Fernandez       0.332         NaN         NaN\n",
       "3        3137      Max Scherzer       0.255      3137.0       0.245\n",
       "4        6893      Johnny Cueto       0.293      6893.0       0.322"
      ]
     },
     "execution_count": 77,
     "metadata": {},
     "output_type": "execute_result"
    }
   ],
   "source": [
    "left_merge = pd.merge(pitchers_2016, pitchers_2017, left_on='Name', right_on='Name', how='left')\n",
    "left_merge.head()"
   ]
  },
  {
   "cell_type": "code",
   "execution_count": 78,
   "metadata": {},
   "outputs": [
    {
     "data": {
      "text/html": [
       "<div>\n",
       "<style scoped>\n",
       "    .dataframe tbody tr th:only-of-type {\n",
       "        vertical-align: middle;\n",
       "    }\n",
       "\n",
       "    .dataframe tbody tr th {\n",
       "        vertical-align: top;\n",
       "    }\n",
       "\n",
       "    .dataframe thead th {\n",
       "        text-align: right;\n",
       "    }\n",
       "</style>\n",
       "<table border=\"1\" class=\"dataframe\">\n",
       "  <thead>\n",
       "    <tr style=\"text-align: right;\">\n",
       "      <th></th>\n",
       "      <th>playerid_x</th>\n",
       "      <th>Name</th>\n",
       "      <th>BABIP_2016</th>\n",
       "      <th>playerid_y</th>\n",
       "      <th>BABIP_2017</th>\n",
       "    </tr>\n",
       "  </thead>\n",
       "  <tbody>\n",
       "    <tr>\n",
       "      <th>0</th>\n",
       "      <td>2036</td>\n",
       "      <td>Clayton Kershaw</td>\n",
       "      <td>0.254</td>\n",
       "      <td>2036</td>\n",
       "      <td>0.267</td>\n",
       "    </tr>\n",
       "    <tr>\n",
       "      <th>1</th>\n",
       "      <td>11762</td>\n",
       "      <td>Noah Syndergaard</td>\n",
       "      <td>0.334</td>\n",
       "      <td>11762</td>\n",
       "      <td>0.337</td>\n",
       "    </tr>\n",
       "    <tr>\n",
       "      <th>2</th>\n",
       "      <td>3137</td>\n",
       "      <td>Max Scherzer</td>\n",
       "      <td>0.255</td>\n",
       "      <td>3137</td>\n",
       "      <td>0.245</td>\n",
       "    </tr>\n",
       "    <tr>\n",
       "      <th>3</th>\n",
       "      <td>6893</td>\n",
       "      <td>Johnny Cueto</td>\n",
       "      <td>0.293</td>\n",
       "      <td>6893</td>\n",
       "      <td>0.322</td>\n",
       "    </tr>\n",
       "    <tr>\n",
       "      <th>4</th>\n",
       "      <td>8700</td>\n",
       "      <td>Justin Verlander</td>\n",
       "      <td>0.255</td>\n",
       "      <td>8700</td>\n",
       "      <td>0.271</td>\n",
       "    </tr>\n",
       "    <tr>\n",
       "      <th>...</th>\n",
       "      <td>...</td>\n",
       "      <td>...</td>\n",
       "      <td>...</td>\n",
       "      <td>...</td>\n",
       "      <td>...</td>\n",
       "    </tr>\n",
       "    <tr>\n",
       "      <th>536</th>\n",
       "      <td>9037</td>\n",
       "      <td>J.J. Hoover</td>\n",
       "      <td>0.333</td>\n",
       "      <td>9037</td>\n",
       "      <td>0.367</td>\n",
       "    </tr>\n",
       "    <tr>\n",
       "      <th>537</th>\n",
       "      <td>9975</td>\n",
       "      <td>Tom Wilhelmsen</td>\n",
       "      <td>0.329</td>\n",
       "      <td>9975</td>\n",
       "      <td>0.266</td>\n",
       "    </tr>\n",
       "    <tr>\n",
       "      <th>538</th>\n",
       "      <td>7059</td>\n",
       "      <td>James Shields</td>\n",
       "      <td>0.302</td>\n",
       "      <td>7059</td>\n",
       "      <td>0.270</td>\n",
       "    </tr>\n",
       "    <tr>\n",
       "      <th>539</th>\n",
       "      <td>11528</td>\n",
       "      <td>Josh Osich</td>\n",
       "      <td>0.229</td>\n",
       "      <td>11528</td>\n",
       "      <td>0.333</td>\n",
       "    </tr>\n",
       "    <tr>\n",
       "      <th>540</th>\n",
       "      <td>3196</td>\n",
       "      <td>Chris Young</td>\n",
       "      <td>0.317</td>\n",
       "      <td>3196</td>\n",
       "      <td>0.385</td>\n",
       "    </tr>\n",
       "  </tbody>\n",
       "</table>\n",
       "<p>541 rows × 5 columns</p>\n",
       "</div>"
      ],
      "text/plain": [
       "     playerid_x              Name  BABIP_2016  playerid_y  BABIP_2017\n",
       "0          2036   Clayton Kershaw       0.254        2036       0.267\n",
       "1         11762  Noah Syndergaard       0.334       11762       0.337\n",
       "2          3137      Max Scherzer       0.255        3137       0.245\n",
       "3          6893      Johnny Cueto       0.293        6893       0.322\n",
       "4          8700  Justin Verlander       0.255        8700       0.271\n",
       "..          ...               ...         ...         ...         ...\n",
       "536        9037       J.J. Hoover       0.333        9037       0.367\n",
       "537        9975    Tom Wilhelmsen       0.329        9975       0.266\n",
       "538        7059     James Shields       0.302        7059       0.270\n",
       "539       11528        Josh Osich       0.229       11528       0.333\n",
       "540        3196       Chris Young       0.317        3196       0.385\n",
       "\n",
       "[541 rows x 5 columns]"
      ]
     },
     "execution_count": 78,
     "metadata": {},
     "output_type": "execute_result"
    }
   ],
   "source": [
    "inner_merge = pd.merge(pitchers_2016, pitchers_2017, left_on='Name', right_on='Name', how='inner')\n",
    "inner_merge"
   ]
  },
  {
   "cell_type": "code",
   "execution_count": 79,
   "metadata": {},
   "outputs": [],
   "source": [
    "lg_avg = [.300]"
   ]
  },
  {
   "cell_type": "code",
   "execution_count": 80,
   "metadata": {},
   "outputs": [],
   "source": [
    "pitchers_2016['lg_avg'] = .300\n"
   ]
  },
  {
   "cell_type": "code",
   "execution_count": 81,
   "metadata": {},
   "outputs": [
    {
     "data": {
      "text/html": [
       "<div>\n",
       "<style scoped>\n",
       "    .dataframe tbody tr th:only-of-type {\n",
       "        vertical-align: middle;\n",
       "    }\n",
       "\n",
       "    .dataframe tbody tr th {\n",
       "        vertical-align: top;\n",
       "    }\n",
       "\n",
       "    .dataframe thead th {\n",
       "        text-align: right;\n",
       "    }\n",
       "</style>\n",
       "<table border=\"1\" class=\"dataframe\">\n",
       "  <thead>\n",
       "    <tr style=\"text-align: right;\">\n",
       "      <th></th>\n",
       "      <th>playerid</th>\n",
       "      <th>Name</th>\n",
       "      <th>BABIP_2016</th>\n",
       "      <th>lg_avg</th>\n",
       "    </tr>\n",
       "  </thead>\n",
       "  <tbody>\n",
       "    <tr>\n",
       "      <th>0</th>\n",
       "      <td>2036</td>\n",
       "      <td>Clayton Kershaw</td>\n",
       "      <td>0.254</td>\n",
       "      <td>0.3</td>\n",
       "    </tr>\n",
       "    <tr>\n",
       "      <th>1</th>\n",
       "      <td>11762</td>\n",
       "      <td>Noah Syndergaard</td>\n",
       "      <td>0.334</td>\n",
       "      <td>0.3</td>\n",
       "    </tr>\n",
       "    <tr>\n",
       "      <th>2</th>\n",
       "      <td>11530</td>\n",
       "      <td>Jose Fernandez</td>\n",
       "      <td>0.332</td>\n",
       "      <td>0.3</td>\n",
       "    </tr>\n",
       "    <tr>\n",
       "      <th>3</th>\n",
       "      <td>3137</td>\n",
       "      <td>Max Scherzer</td>\n",
       "      <td>0.255</td>\n",
       "      <td>0.3</td>\n",
       "    </tr>\n",
       "    <tr>\n",
       "      <th>4</th>\n",
       "      <td>6893</td>\n",
       "      <td>Johnny Cueto</td>\n",
       "      <td>0.293</td>\n",
       "      <td>0.3</td>\n",
       "    </tr>\n",
       "  </tbody>\n",
       "</table>\n",
       "</div>"
      ],
      "text/plain": [
       "   playerid              Name  BABIP_2016  lg_avg\n",
       "0      2036   Clayton Kershaw       0.254     0.3\n",
       "1     11762  Noah Syndergaard       0.334     0.3\n",
       "2     11530    Jose Fernandez       0.332     0.3\n",
       "3      3137      Max Scherzer       0.255     0.3\n",
       "4      6893      Johnny Cueto       0.293     0.3"
      ]
     },
     "execution_count": 81,
     "metadata": {},
     "output_type": "execute_result"
    }
   ],
   "source": [
    "pitchers_2016.head()"
   ]
  },
  {
   "cell_type": "code",
   "execution_count": 88,
   "metadata": {},
   "outputs": [
    {
     "data": {
      "text/plain": [
       "0      0.254\n",
       "1      0.334\n",
       "2      0.332\n",
       "3      0.255\n",
       "4      0.293\n",
       "       ...  \n",
       "737    0.306\n",
       "738    0.361\n",
       "739    0.302\n",
       "740    0.229\n",
       "741    0.317\n",
       "Name: BABIP_2016, Length: 742, dtype: float64"
      ]
     },
     "execution_count": 88,
     "metadata": {},
     "output_type": "execute_result"
    }
   ],
   "source": [
    "pitchers_2016['BABIP_2016']"
   ]
  },
  {
   "cell_type": "code",
   "execution_count": 92,
   "metadata": {},
   "outputs": [
    {
     "ename": "TypeError",
     "evalue": "unsupported operand type(s) for -: 'str' and 'str'",
     "output_type": "error",
     "traceback": [
      "\u001b[0;31m---------------------------------------------------------------------------\u001b[0m",
      "\u001b[0;31mTypeError\u001b[0m                                 Traceback (most recent call last)",
      "\u001b[0;32m<ipython-input-92-1525e548ffa4>\u001b[0m in \u001b[0;36m<module>\u001b[0;34m\u001b[0m\n\u001b[0;32m----> 1\u001b[0;31m \u001b[0mpred_2016\u001b[0m \u001b[0;34m=\u001b[0m \u001b[0mnp\u001b[0m\u001b[0;34m.\u001b[0m\u001b[0mmean\u001b[0m\u001b[0;34m(\u001b[0m\u001b[0mabs\u001b[0m\u001b[0;34m(\u001b[0m\u001b[0;34m[\u001b[0m\u001b[0;34m'BABIP_2016'\u001b[0m \u001b[0;34m-\u001b[0m \u001b[0;34m'BABIP_2017'\u001b[0m\u001b[0;34m]\u001b[0m\u001b[0;34m)\u001b[0m\u001b[0;34m)\u001b[0m\u001b[0;34m\u001b[0m\u001b[0;34m\u001b[0m\u001b[0m\n\u001b[0m",
      "\u001b[0;31mTypeError\u001b[0m: unsupported operand type(s) for -: 'str' and 'str'"
     ]
    }
   ],
   "source": [
    "pred_2016 = np.mean(abs(['BABIP_2016' - 'BABIP_2017']))"
   ]
  },
  {
   "cell_type": "code",
   "execution_count": 93,
   "metadata": {},
   "outputs": [],
   "source": [
    "pred_2016 = np.mean(abs(pitchers_2016['BABIP_2016'] - pitchers_2017['BABIP_2017']))"
   ]
  },
  {
   "cell_type": "code",
   "execution_count": 94,
   "metadata": {},
   "outputs": [
    {
     "data": {
      "text/plain": [
       "0.08115768194070086"
      ]
     },
     "execution_count": 94,
     "metadata": {},
     "output_type": "execute_result"
    }
   ],
   "source": [
    "pred_2016"
   ]
  },
  {
   "cell_type": "code",
   "execution_count": 95,
   "metadata": {},
   "outputs": [],
   "source": [
    "pred_lgavg = np.mean(abs(lg_avg - pitchers_2017['BABIP_2017']))"
   ]
  },
  {
   "cell_type": "code",
   "execution_count": 96,
   "metadata": {},
   "outputs": [
    {
     "data": {
      "text/plain": [
       "0.0571695364238411"
      ]
     },
     "execution_count": 96,
     "metadata": {},
     "output_type": "execute_result"
    }
   ],
   "source": [
    "pred_lgavg"
   ]
  },
  {
   "cell_type": "code",
   "execution_count": null,
   "metadata": {},
   "outputs": [],
   "source": []
  }
 ],
 "metadata": {
  "kernelspec": {
   "display_name": "Python 3",
   "language": "python",
   "name": "python3"
  },
  "language_info": {
   "codemirror_mode": {
    "name": "ipython",
    "version": 3
   },
   "file_extension": ".py",
   "mimetype": "text/x-python",
   "name": "python",
   "nbconvert_exporter": "python",
   "pygments_lexer": "ipython3",
   "version": "3.8.5"
  }
 },
 "nbformat": 4,
 "nbformat_minor": 4
}
